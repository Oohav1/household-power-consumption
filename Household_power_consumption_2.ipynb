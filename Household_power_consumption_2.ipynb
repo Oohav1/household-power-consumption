{
  "cells": [
    {
      "cell_type": "code",
      "execution_count": 1,
      "metadata": {
        "colab": {
          "base_uri": "https://localhost:8080/"
        },
        "id": "PkPtqEt2eWyD",
        "outputId": "71b049c4-209a-401b-abfb-af851ea67cc0"
      },
      "outputs": [
        {
          "output_type": "execute_result",
          "data": {
            "text/plain": [
              "['household_power_consumption.txt']"
            ]
          },
          "metadata": {},
          "execution_count": 1
        }
      ],
      "source": [
        "import zipfile\n",
        "import os\n",
        "import warnings\n",
        "warnings.filterwarnings('ignore')\n",
        "\n",
        "# File path for the uploaded zip file\n",
        "zip_file_path = 'individual+household+electric+power+consumption.zip'\n",
        "extract_folder_path = 'household_power_consumption'\n",
        "\n",
        "# Unzipping the file\n",
        "with zipfile.ZipFile(zip_file_path, 'r') as zip_ref:\n",
        "    zip_ref.extractall(extract_folder_path)\n",
        "\n",
        "# Listing the files extracted\n",
        "extracted_files = os.listdir(extract_folder_path)\n",
        "extracted_files"
      ]
    },
    {
      "cell_type": "code",
      "execution_count": 2,
      "metadata": {
        "id": "FLpSa0jIeWyH"
      },
      "outputs": [],
      "source": [
        "import pandas as pd\n",
        "\n",
        "# File path of the extracted data\n",
        "data_file_path = os.path.join(extract_folder_path, 'household_power_consumption.txt')\n"
      ]
    },
    {
      "cell_type": "code",
      "execution_count": 3,
      "metadata": {
        "id": "gva1d8_peWyJ"
      },
      "outputs": [],
      "source": [
        "import pandas as pd\n",
        "from sklearn.model_selection import train_test_split\n",
        "from sklearn.preprocessing import StandardScaler\n",
        "\n",
        "# Assuming 'data_file_path' is the path to your CSV file\n",
        "data = pd.read_csv(data_file_path, sep=';')\n",
        "data['Datetime'] = pd.to_datetime(data['Date'] + ' ' + data['Time'])\n",
        "data.drop(['Date', 'Time'], axis=1, inplace=True)\n",
        "\n",
        "# Convert data to numeric and handle missing values (impute or drop)\n",
        "data = data.apply(pd.to_numeric, errors='coerce')\n",
        "data.dropna(inplace=True)\n",
        "\n",
        "# Feature selection - select relevant columns\n",
        "features = data.drop(['Global_active_power', 'Datetime'], axis=1)\n",
        "target = data['Global_active_power']\n",
        "\n",
        "# Splitting the dataset\n",
        "X_train, X_test, y_train, y_test = train_test_split(features, target, test_size=0.2, random_state=42)\n",
        "\n",
        "# Standardizing the features\n",
        "scaler = StandardScaler()\n",
        "X_train = scaler.fit_transform(X_train)\n",
        "X_test = scaler.transform(X_test)"
      ]
    },
    {
      "cell_type": "code",
      "execution_count": 4,
      "metadata": {
        "colab": {
          "base_uri": "https://localhost:8080/"
        },
        "id": "g7b_ulJ-eWyK",
        "outputId": "f0527210-43e4-46c2-9046-bdb5b7f787b4"
      },
      "outputs": [
        {
          "output_type": "stream",
          "name": "stdout",
          "text": [
            "Random Forest RMSE: 0.03260927388323318\n"
          ]
        }
      ],
      "source": [
        "from sklearn.ensemble import RandomForestRegressor\n",
        "from sklearn.metrics import mean_squared_error\n",
        "\n",
        "rf_model = RandomForestRegressor(random_state=42)\n",
        "rf_model.fit(X_train, y_train)\n",
        "rf_predictions = rf_model.predict(X_test)\n",
        "\n",
        "rf_rmse = mean_squared_error(y_test, rf_predictions, squared=False)\n",
        "print(f\"Random Forest RMSE: {rf_rmse}\")"
      ]
    },
    {
      "cell_type": "code",
      "execution_count": null,
      "metadata": {
        "id": "5uRmiB0ieWyL"
      },
      "outputs": [],
      "source": []
    },
    {
      "cell_type": "code",
      "execution_count": 5,
      "metadata": {
        "colab": {
          "base_uri": "https://localhost:8080/"
        },
        "id": "E_qqRO26eWyL",
        "outputId": "37256c13-a772-4fcc-9aba-65b8aee541a7"
      },
      "outputs": [
        {
          "output_type": "stream",
          "name": "stdout",
          "text": [
            "GBM RMSE: 0.03432207499277312\n"
          ]
        }
      ],
      "source": [
        "from sklearn.ensemble import GradientBoostingRegressor\n",
        "\n",
        "gbm_model = GradientBoostingRegressor(random_state=42)\n",
        "gbm_model.fit(X_train, y_train)\n",
        "gbm_predictions = gbm_model.predict(X_test)\n",
        "\n",
        "gbm_rmse = mean_squared_error(y_test, gbm_predictions, squared=False)\n",
        "print(f\"GBM RMSE: {gbm_rmse}\")"
      ]
    },
    {
      "cell_type": "code",
      "execution_count": null,
      "metadata": {
        "id": "JYC-F39zeWyM"
      },
      "outputs": [],
      "source": []
    },
    {
      "cell_type": "code",
      "execution_count": 6,
      "metadata": {
        "colab": {
          "base_uri": "https://localhost:8080/",
          "height": 487
        },
        "id": "OoaGVFGkeWyM",
        "outputId": "e8257be3-e6f4-477b-b64a-0c3d9f0a00d0"
      },
      "outputs": [
        {
          "output_type": "display_data",
          "data": {
            "text/plain": [
              "<Figure size 1000x500 with 1 Axes>"
            ],
            "image/png": "[encoded data removed]"
          },
          "metadata": {}
        }
      ],
      "source": [
        "import matplotlib.pyplot as plt\n",
        "\n",
        "# Comparing RMSE values\n",
        "rmse_values = [rf_rmse, gbm_rmse]\n",
        "model_names = ['Random Forest', 'GBM']\n",
        "\n",
        "plt.figure(figsize=(10, 5))\n",
        "plt.bar(model_names, rmse_values, color='skyblue')\n",
        "plt.xlabel('Models')\n",
        "plt.ylabel('RMSE')\n",
        "plt.title('Comparison of Model Performance')\n",
        "plt.show()"
      ]
    },
    {
      "cell_type": "code",
      "execution_count": null,
      "metadata": {
        "id": "S573112HeWyM"
      },
      "outputs": [],
      "source": []
    }
  ],
  "metadata": {
    "kernelspec": {
      "display_name": "Python 3",
      "language": "python",
      "name": "python3"
    },
    "language_info": {
      "codemirror_mode": {
        "name": "ipython",
        "version": 3
      },
      "file_extension": ".py",
      "mimetype": "text/x-python",
      "name": "python",
      "nbconvert_exporter": "python",
      "pygments_lexer": "ipython3",
      "version": "3.8.5"
    },
    "colab": {
      "provenance": []
    }
  },
  "nbformat": 4,
  "nbformat_minor": 0
}